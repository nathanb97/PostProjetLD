{
 "cells": [
  {
   "cell_type": "code",
   "execution_count": 156,
   "metadata": {},
   "outputs": [],
   "source": [
    "from selenium import webdriver\n",
    "import copy\n",
    "from selenium.webdriver.common.keys import Keys\n",
    "import pandas as pd\n",
    "import numpy as np\n",
    "import re\n",
    "import os\n",
    "import random\n",
    "import sys\n",
    "from threading import Thread\n",
    "import time\n",
    "from multiprocessing.pool import ThreadPool\n",
    "from selenium.webdriver import ActionChains\n",
    "import time\n",
    "import random\n"
   ]
  },
  {
   "cell_type": "code",
   "execution_count": 157,
   "metadata": {},
   "outputs": [],
   "source": [
    "driver = webdriver.Firefox(\".\")\n",
    "driver.implicitly_wait(1)"
   ]
  },
  {
   "cell_type": "code",
   "execution_count": 158,
   "metadata": {},
   "outputs": [],
   "source": [
    "driver.get(\"http://localhost:8000/\")"
   ]
  },
  {
   "cell_type": "code",
   "execution_count": 159,
   "metadata": {},
   "outputs": [],
   "source": [
    "country=[\"France\",\"Allemagne\",\"Etats-Unis\"]\n"
   ]
  },
  {
   "cell_type": "code",
   "execution_count": null,
   "metadata": {},
   "outputs": [],
   "source": []
  },
  {
   "cell_type": "code",
   "execution_count": 160,
   "metadata": {},
   "outputs": [],
   "source": [
    "\n",
    "try:\n",
    "    search=driver.find_element_by_xpath(\"//button[@id='searchButton']\")\n",
    "    search.click()\n",
    "    time.sleep(2)\n",
    "except:\n",
    "    print(\"mince\")\n"
   ]
  },
  {
   "cell_type": "code",
   "execution_count": 161,
   "metadata": {},
   "outputs": [
    {
     "name": "stdout",
     "output_type": "stream",
     "text": [
      "30 330\n",
      "330 630\n",
      "630 838\n",
      "930 838\n",
      "rentre deans le break\n"
     ]
    }
   ],
   "source": [
    "try:\n",
    "\n",
    "    y=30\n",
    "    while True and y<1000:\n",
    "        if y is not None:\n",
    "            old_y=y\n",
    "        else:\n",
    "            old_y=0\n",
    "\n",
    "        y+=300\n",
    "\n",
    "        driver.execute_script(\"window.scrollTo(0, \"+str(y)+\")\")\n",
    "        time.sleep(1)\n",
    "        newy=driver.execute_script(\"return window.pageYOffset;\")\n",
    "        print(old_y,newy)\n",
    "        if abs(old_y-newy)<20 or old_y>newy :\n",
    "            print(\"rentre deans le break\")\n",
    "            break\n",
    "        old_y=newy\n",
    "except Exception as e:\n",
    "    print(\"deuxieme scroll\",e)\n",
    "time.sleep(5)\n",
    "\n",
    "\n"
   ]
  },
  {
   "cell_type": "code",
   "execution_count": 162,
   "metadata": {},
   "outputs": [
    {
     "name": "stdout",
     "output_type": "stream",
     "text": [
      "butt_aff_price est : <selenium.webdriver.firefox.webelement.FirefoxWebElement (session=\"867d2163-82cf-4405-b25f-5aed436c72d8\", element=\"5f40146a-cb38-4276-b106-cde1466ee8ce\")>\n",
      "je suis dans le scroll_at None 0\n",
      "je suis dans le scroll_at 197 197\n"
     ]
    }
   ],
   "source": [
    "BaliseCountry=driver.find_elements_by_xpath(\"//div[@id='button_graphe']\")\n",
    "for button_aff_price in BaliseCountry:\n",
    "    print(\"butt_aff_price est :\",button_aff_price)\n",
    "    try:\n",
    "        y=None\n",
    "        cpt=0\n",
    "        while True and cpt<100:\n",
    "            #print(\"ntm1:::::: \",yamlFile[domain]['butt_aff_price'],\"browser :\",browser)\n",
    "            #button_aff_price = browser.find_element_by_xpath(yamlFile[domain]['scroll_at'])\n",
    "            #print(\"ntm2:::::: \",yamlFile[domain]['butt_aff_price'],button_aff_price)\n",
    "            #button_aff_price.location_once_scrolled_into_view\n",
    "            location = button_aff_price.location\n",
    "            actions = ActionChains(driver)\n",
    "            if y is not None:\n",
    "                old_y=y\n",
    "            else:\n",
    "                old_y=0\n",
    "            print(\"je suis dans le scroll_at\",y,old_y)\n",
    "            y=location['y']-500\n",
    "            cpt+=1\n",
    "            if abs(old_y-y)<20:\n",
    "                break\n",
    "            driver.execute_script(\"window.scrollTo(0, \"+str(y)+\")\")\n",
    "            time.sleep(3)\n",
    "            location = button_aff_price.location\n",
    "            y=location['y']-500\n",
    "            driver.execute_script(\"window.scrollTo(0, \"+str(y)+\")\")\n",
    "            actions.click(button_aff_price).perform()\n",
    "\n",
    "\n",
    "            time.sleep(5)\n",
    "    except Exception as e:\n",
    "        print(\"marche pas :\",e)\n"
   ]
  },
  {
   "cell_type": "code",
   "execution_count": 163,
   "metadata": {},
   "outputs": [
    {
     "name": "stdout",
     "output_type": "stream",
     "text": [
      "30 330\n",
      "330 630\n",
      "630 930\n",
      "930 1230\n"
     ]
    }
   ],
   "source": [
    "try:\n",
    "\n",
    "    y=30\n",
    "    while True and y<1000:\n",
    "        if y is not None:\n",
    "            old_y=y\n",
    "        else:\n",
    "            old_y=0\n",
    "\n",
    "        y+=300\n",
    "\n",
    "        driver.execute_script(\"window.scrollTo(0, \"+str(y)+\")\")\n",
    "        time.sleep(1)\n",
    "        newy=driver.execute_script(\"return window.pageYOffset;\")\n",
    "        print(old_y,newy)\n",
    "        if abs(old_y-newy)<20 or old_y>newy :\n",
    "            print(\"rentre deans le break\")\n",
    "            break\n",
    "        old_y=newy\n",
    "except Exception as e:\n",
    "    print(\"deuxieme scroll\",e)\n",
    "time.sleep(5)\n",
    "\n",
    "\n"
   ]
  },
  {
   "cell_type": "code",
   "execution_count": 164,
   "metadata": {},
   "outputs": [
    {
     "name": "stdout",
     "output_type": "stream",
     "text": [
      "butt_aff_price est : <selenium.webdriver.firefox.webelement.FirefoxWebElement (session=\"867d2163-82cf-4405-b25f-5aed436c72d8\", element=\"14ff84f0-ae5d-4c36-ac65-44bc852ec296\")>\n",
      "je suis dans le scroll_at None 0\n",
      "je suis dans le scroll_at 123 123\n"
     ]
    }
   ],
   "source": [
    "for button_aff_price in [search]:\n",
    "    print(\"butt_aff_price est :\",button_aff_price)\n",
    "    try:\n",
    "        y=None\n",
    "        cpt=0\n",
    "        while True and cpt<100:\n",
    "            #print(\"ntm1:::::: \",yamlFile[domain]['butt_aff_price'],\"browser :\",browser)\n",
    "            #button_aff_price = browser.find_element_by_xpath(yamlFile[domain]['scroll_at'])\n",
    "            #print(\"ntm2:::::: \",yamlFile[domain]['butt_aff_price'],button_aff_price)\n",
    "            #button_aff_price.location_once_scrolled_into_view\n",
    "            location = button_aff_price.location\n",
    "            actions = ActionChains(driver)\n",
    "            if y is not None:\n",
    "                old_y=y\n",
    "            else:\n",
    "                old_y=0\n",
    "            print(\"je suis dans le scroll_at\",y,old_y)\n",
    "            y=location['y']-500\n",
    "            cpt+=1\n",
    "            if abs(old_y-y)<20:\n",
    "                break\n",
    "            driver.execute_script(\"window.scrollTo(0, \"+str(y)+\")\")\n",
    "            time.sleep(3)\n",
    "            location = button_aff_price.location\n",
    "            y=location['y']-500\n",
    "            driver.execute_script(\"window.scrollTo(0, \"+str(y)+\")\")\n",
    "            actions.click(button_aff_price).perform()\n",
    "\n",
    "\n",
    "            time.sleep(5)\n",
    "    except Exception as e:\n",
    "        print(\"marche pas :\",e)\n"
   ]
  },
  {
   "cell_type": "code",
   "execution_count": 165,
   "metadata": {},
   "outputs": [
    {
     "name": "stdout",
     "output_type": "stream",
     "text": [
      "30 330\n",
      "330 630\n",
      "630 930\n",
      "930 1230\n"
     ]
    }
   ],
   "source": [
    "try:\n",
    "\n",
    "    y=30\n",
    "    while True and y<1000:\n",
    "        if y is not None:\n",
    "            old_y=y\n",
    "        else:\n",
    "            old_y=0\n",
    "\n",
    "        y+=300\n",
    "\n",
    "        driver.execute_script(\"window.scrollTo(0, \"+str(y)+\")\")\n",
    "        time.sleep(1)\n",
    "        newy=driver.execute_script(\"return window.pageYOffset;\")\n",
    "        print(old_y,newy)\n",
    "        if abs(old_y-newy)<20 or old_y>newy :\n",
    "            print(\"rentre deans le break\")\n",
    "            break\n",
    "        old_y=newy\n",
    "except Exception as e:\n",
    "    print(\"deuxieme scroll\",e)\n",
    "time.sleep(5)\n",
    "\n",
    "\n"
   ]
  },
  {
   "cell_type": "code",
   "execution_count": 166,
   "metadata": {},
   "outputs": [
    {
     "name": "stdout",
     "output_type": "stream",
     "text": [
      "mince\n"
     ]
    }
   ],
   "source": [
    "try:\n",
    "    BaliseCountry=driver.find_element_by_xpath(\"//textarea[@id='source']\")\n",
    "    BaliseCountry.send_keys(\"Maintenant je vais faire une faute d'orthographe pour voir ce qu'il se passe\")\n",
    "    time.sleep(5)\n",
    "except:\n",
    "    print(\"mince\")\n"
   ]
  },
  {
   "cell_type": "code",
   "execution_count": 168,
   "metadata": {},
   "outputs": [],
   "source": [
    "try:\n",
    "    driver.get(\"https://translate.google.com/\")\n",
    "    BaliseCountry=driver.find_element_by_xpath(\"//textarea[@id='source']\")\n",
    "    BaliseCountry.send_keys(\"Maintenant je vais faire une faute d'orthographe pour voir ce qu'il se passe.\")\n",
    "    time.sleep(10)\n",
    "    BaliseCountry.clear()\n",
    "    BaliseCountry.send_keys(\"D'abbord le filtre sera annulé mais la suggestion de correction sera sous forme de liste deroulante\")\n",
    "    time.sleep(8)\n",
    "    BaliseCountry.clear()\n",
    "    BaliseCountry.send_keys(\"\")\n",
    "    #time.sleep(8)\n",
    "except:\n",
    "    print(\"mince\")\n"
   ]
  },
  {
   "cell_type": "code",
   "execution_count": 169,
   "metadata": {},
   "outputs": [],
   "source": [
    "driver.get(\"http://localhost:8000/\")\n",
    "try:\n",
    "    searchWord=driver.find_element_by_xpath(\"//input[@id='searchWord']\")\n",
    "    searchWord.send_keys(\"nguyen\")\n",
    "    time.sleep(5)\n",
    "except:\n",
    "    print(\"mince\")\n",
    "\n",
    "try:\n",
    "    search=driver.find_element_by_xpath(\"//button[@id='searchButton']\")\n",
    "    search.click()\n",
    "    time.sleep(2)\n",
    "except:\n",
    "    print(\"mince\")\n"
   ]
  },
  {
   "cell_type": "code",
   "execution_count": 170,
   "metadata": {},
   "outputs": [
    {
     "name": "stdout",
     "output_type": "stream",
     "text": [
      "30 330\n",
      "330 630\n",
      "630 838\n",
      "930 838\n",
      "rentre deans le break\n"
     ]
    }
   ],
   "source": [
    "try:\n",
    "\n",
    "    y=30\n",
    "    while True and y<1000:\n",
    "        if y is not None:\n",
    "            old_y=y\n",
    "        else:\n",
    "            old_y=0\n",
    "\n",
    "        y+=300\n",
    "\n",
    "        driver.execute_script(\"window.scrollTo(0, \"+str(y)+\")\")\n",
    "        time.sleep(1)\n",
    "        newy=driver.execute_script(\"return window.pageYOffset;\")\n",
    "        print(old_y,newy)\n",
    "        if abs(old_y-newy)<20 or old_y>newy :\n",
    "            print(\"rentre deans le break\")\n",
    "            break\n",
    "        old_y=newy\n",
    "except Exception as e:\n",
    "    print(\"deuxieme scroll\",e)\n",
    "time.sleep(5)\n",
    "\n"
   ]
  },
  {
   "cell_type": "code",
   "execution_count": 171,
   "metadata": {},
   "outputs": [
    {
     "name": "stdout",
     "output_type": "stream",
     "text": [
      "butt_aff_price est : <selenium.webdriver.firefox.webelement.FirefoxWebElement (session=\"867d2163-82cf-4405-b25f-5aed436c72d8\", element=\"b73401af-1558-4550-a7e8-39010dd97b20\")>\n",
      "je suis dans le scroll_at None 0\n",
      "je suis dans le scroll_at -94 -94\n"
     ]
    }
   ],
   "source": [
    "for button_aff_price in [searchWord]:\n",
    "    print(\"butt_aff_price est :\",button_aff_price)\n",
    "    try:\n",
    "        y=None\n",
    "        cpt=0\n",
    "        while True and cpt<100:\n",
    "            #print(\"ntm1:::::: \",yamlFile[domain]['butt_aff_price'],\"browser :\",browser)\n",
    "            #button_aff_price = browser.find_element_by_xpath(yamlFile[domain]['scroll_at'])\n",
    "            #print(\"ntm2:::::: \",yamlFile[domain]['butt_aff_price'],button_aff_price)\n",
    "            #button_aff_price.location_once_scrolled_into_view\n",
    "            location = button_aff_price.location\n",
    "            actions = ActionChains(driver)\n",
    "            if y is not None:\n",
    "                old_y=y\n",
    "            else:\n",
    "                old_y=0\n",
    "            print(\"je suis dans le scroll_at\",y,old_y)\n",
    "            y=location['y']-500\n",
    "            cpt+=1\n",
    "            if abs(old_y-y)<20:\n",
    "                break\n",
    "            driver.execute_script(\"window.scrollTo(0, \"+str(y)+\")\")\n",
    "            time.sleep(3)\n",
    "            location = button_aff_price.location\n",
    "            y=location['y']-500\n",
    "            driver.execute_script(\"window.scrollTo(0, \"+str(y)+\")\")\n",
    "            actions.click(button_aff_price).perform()\n",
    "\n",
    "\n",
    "            time.sleep(5)\n",
    "    except Exception as e:\n",
    "        print(\"marche pas :\",e)\n"
   ]
  },
  {
   "cell_type": "code",
   "execution_count": 172,
   "metadata": {},
   "outputs": [],
   "source": [
    "try:\n",
    "    searchWord.clear()\n",
    "    searchWord.send_keys(\"Maintenant ça vas apparaitre\")\n",
    "    time.sleep(5)\n",
    "    searchWord.clear()\n",
    "except:\n",
    "    True\n",
    "\n"
   ]
  },
  {
   "cell_type": "code",
   "execution_count": 173,
   "metadata": {},
   "outputs": [],
   "source": [
    "searchWord.click()\n",
    "searchWord.click()"
   ]
  },
  {
   "cell_type": "code",
   "execution_count": null,
   "metadata": {},
   "outputs": [],
   "source": [
    "time.sleep(5)"
   ]
  },
  {
   "cell_type": "code",
   "execution_count": null,
   "metadata": {},
   "outputs": [],
   "source": []
  },
  {
   "cell_type": "code",
   "execution_count": null,
   "metadata": {},
   "outputs": [],
   "source": []
  },
  {
   "cell_type": "code",
   "execution_count": null,
   "metadata": {},
   "outputs": [],
   "source": []
  },
  {
   "cell_type": "code",
   "execution_count": null,
   "metadata": {},
   "outputs": [],
   "source": []
  },
  {
   "cell_type": "code",
   "execution_count": null,
   "metadata": {},
   "outputs": [],
   "source": []
  },
  {
   "cell_type": "code",
   "execution_count": null,
   "metadata": {},
   "outputs": [],
   "source": []
  },
  {
   "cell_type": "code",
   "execution_count": null,
   "metadata": {},
   "outputs": [],
   "source": []
  },
  {
   "cell_type": "code",
   "execution_count": 39,
   "metadata": {},
   "outputs": [],
   "source": [
    "driver.close()"
   ]
  },
  {
   "cell_type": "code",
   "execution_count": null,
   "metadata": {},
   "outputs": [],
   "source": []
  },
  {
   "cell_type": "code",
   "execution_count": null,
   "metadata": {},
   "outputs": [],
   "source": []
  },
  {
   "cell_type": "code",
   "execution_count": null,
   "metadata": {},
   "outputs": [],
   "source": []
  },
  {
   "cell_type": "code",
   "execution_count": null,
   "metadata": {},
   "outputs": [],
   "source": []
  },
  {
   "cell_type": "code",
   "execution_count": null,
   "metadata": {},
   "outputs": [],
   "source": []
  },
  {
   "cell_type": "code",
   "execution_count": null,
   "metadata": {},
   "outputs": [],
   "source": []
  },
  {
   "cell_type": "code",
   "execution_count": null,
   "metadata": {},
   "outputs": [],
   "source": []
  },
  {
   "cell_type": "code",
   "execution_count": null,
   "metadata": {},
   "outputs": [],
   "source": []
  },
  {
   "cell_type": "code",
   "execution_count": null,
   "metadata": {},
   "outputs": [],
   "source": []
  },
  {
   "cell_type": "code",
   "execution_count": null,
   "metadata": {},
   "outputs": [],
   "source": []
  },
  {
   "cell_type": "code",
   "execution_count": null,
   "metadata": {},
   "outputs": [],
   "source": []
  },
  {
   "cell_type": "code",
   "execution_count": null,
   "metadata": {},
   "outputs": [],
   "source": []
  },
  {
   "cell_type": "code",
   "execution_count": null,
   "metadata": {},
   "outputs": [],
   "source": []
  },
  {
   "cell_type": "code",
   "execution_count": null,
   "metadata": {},
   "outputs": [],
   "source": []
  },
  {
   "cell_type": "code",
   "execution_count": null,
   "metadata": {},
   "outputs": [],
   "source": []
  },
  {
   "cell_type": "code",
   "execution_count": null,
   "metadata": {},
   "outputs": [],
   "source": []
  },
  {
   "cell_type": "code",
   "execution_count": null,
   "metadata": {},
   "outputs": [],
   "source": []
  },
  {
   "cell_type": "code",
   "execution_count": null,
   "metadata": {},
   "outputs": [],
   "source": []
  },
  {
   "cell_type": "code",
   "execution_count": null,
   "metadata": {},
   "outputs": [],
   "source": []
  },
  {
   "cell_type": "code",
   "execution_count": null,
   "metadata": {},
   "outputs": [],
   "source": []
  },
  {
   "cell_type": "code",
   "execution_count": null,
   "metadata": {},
   "outputs": [],
   "source": []
  },
  {
   "cell_type": "code",
   "execution_count": null,
   "metadata": {},
   "outputs": [],
   "source": []
  },
  {
   "cell_type": "code",
   "execution_count": null,
   "metadata": {},
   "outputs": [],
   "source": []
  },
  {
   "cell_type": "code",
   "execution_count": null,
   "metadata": {},
   "outputs": [],
   "source": []
  }
 ],
 "metadata": {
  "kernelspec": {
   "display_name": "Python 3",
   "language": "python",
   "name": "python3"
  },
  "language_info": {
   "codemirror_mode": {
    "name": "ipython",
    "version": 3
   },
   "file_extension": ".py",
   "mimetype": "text/x-python",
   "name": "python",
   "nbconvert_exporter": "python",
   "pygments_lexer": "ipython3",
   "version": "3.6.9"
  }
 },
 "nbformat": 4,
 "nbformat_minor": 4
}
